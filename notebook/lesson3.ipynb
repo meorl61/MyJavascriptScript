{
 "cells": [
  {
   "cell_type": "code",
   "execution_count": 22,
   "metadata": {
    "dotnet_interactive": {
     "language": "javascript"
    },
    "polyglot_notebook": {
     "kernelName": "javascript"
    },
    "vscode": {
     "languageId": "polyglot-notebook"
    }
   },
   "outputs": [
    {
     "data": {
      "text/plain": [
       "1"
      ]
     },
     "metadata": {},
     "output_type": "display_data"
    },
    {
     "data": {
      "text/plain": [
       "3"
      ]
     },
     "metadata": {},
     "output_type": "display_data"
    },
    {
     "data": {
      "text/plain": [
       "1"
      ]
     },
     "metadata": {},
     "output_type": "display_data"
    },
    {
     "data": {
      "text/plain": [
       "4"
      ]
     },
     "metadata": {},
     "output_type": "display_data"
    },
    {
     "data": {
      "text/plain": [
       "2.302585092994046"
      ]
     },
     "metadata": {},
     "output_type": "display_data"
    },
    {
     "data": {
      "text/plain": [
       "10"
      ]
     },
     "metadata": {},
     "output_type": "display_data"
    },
    {
     "data": {
      "text/plain": [
       "10"
      ]
     },
     "metadata": {},
     "output_type": "display_data"
    },
    {
     "data": {
      "text/plain": [
       "-10"
      ]
     },
     "metadata": {},
     "output_type": "display_data"
    },
    {
     "data": {
      "text/plain": [
       "取亂數:94"
      ]
     },
     "metadata": {},
     "output_type": "display_data"
    },
    {
     "data": {
      "text/plain": [
       "3"
      ]
     },
     "metadata": {},
     "output_type": "display_data"
    },
    {
     "data": {
      "text/plain": [
       "22"
      ]
     },
     "metadata": {},
     "output_type": "display_data"
    }
   ],
   "source": [
    "//數學運算\n",
    "console.log(Math.round(.6))//4捨5入\n",
    "console.log(Math.floor(3.9)) //無條件捨去\n",
    "console.log(Math.ceil(.95)) //四捨五入並返回大於或等於給定數字的較小整數\n",
    "console.log(Math.pow(2,2))  //次方\n",
    "console.log(Math.log(10))  //對數\n",
    "console.log(Math.pow(Math.E,2.302585092994046))\n",
    "console.log(Math.sqrt(100)) //平方根\n",
    "console.log(Math.trunc(-10.123)); //刪除小數\n",
    "console.log('取亂數:'+Math.floor(Math.random() * 100));//取亂數\n",
    "console.log(Math.max(1, 3, 2))//取最大值\n",
    "console.log(Math.abs(-22)) //取絕對值"
   ]
  },
  {
   "cell_type": "code",
   "execution_count": 30,
   "metadata": {
    "dotnet_interactive": {
     "language": "javascript"
    },
    "polyglot_notebook": {
     "kernelName": "javascript"
    },
    "vscode": {
     "languageId": "polyglot-notebook"
    }
   },
   "outputs": [
    {
     "data": {
      "application/json": [
       1,
       2,
       3,
       4,
       5
      ]
     },
     "metadata": {},
     "output_type": "display_data"
    },
    {
     "data": {
      "application/json": [
       1,
       2,
       5
      ]
     },
     "metadata": {},
     "output_type": "display_data"
    },
    {
     "data": {
      "application/json": [
       3,
       4
      ]
     },
     "metadata": {},
     "output_type": "display_data"
    },
    {
     "data": {
      "application/json": [
       5,
       6
      ]
     },
     "metadata": {},
     "output_type": "display_data"
    },
    {
     "data": {
      "text/plain": [
       "6"
      ]
     },
     "metadata": {},
     "output_type": "display_data"
    }
   ],
   "source": [
    "//建立array\n",
    "console.log([1,2,3,4,5])\n",
    "\n",
    "//建立二維array\n",
    "console.log([1,2,5],[3,4],[5,6])\n",
    "\n",
    "let a=[[1,2,5],[3,4],[5,6]]\n",
    "console.log(a[2][1])"
   ]
  },
  {
   "cell_type": "code",
   "execution_count": 46,
   "metadata": {
    "dotnet_interactive": {
     "language": "javascript"
    },
    "polyglot_notebook": {
     "kernelName": "javascript"
    },
    "vscode": {
     "languageId": "polyglot-notebook"
    }
   },
   "outputs": [
    {
     "ename": "Error",
     "evalue": "Unexpected string",
     "output_type": "error",
     "traceback": [
      "Unexpected string"
     ]
    }
   ],
   "source": [
    "//object\n",
    "//物件\n",
    "\n",
    "let p = {x:2.3, y:-1.2,abc:333}\n",
    "console.log(p['x'])\n",
    "console.log(p.x)\n",
    "console.log(p['y'])\n",
    "console.log(p.y)\n",
    "console.log(p['abc'])\n",
    "\n"
   ]
  },
  {
   "cell_type": "code",
   "execution_count": 52,
   "metadata": {
    "dotnet_interactive": {
     "language": "javascript"
    },
    "polyglot_notebook": {
     "kernelName": "javascript"
    },
    "vscode": {
     "languageId": "polyglot-notebook"
    }
   },
   "outputs": [
    {
     "data": {
      "text/plain": [
       "javascript"
      ]
     },
     "metadata": {},
     "output_type": "display_data"
    },
    {
     "data": {
      "text/plain": [
       "The Definitive Guide"
      ]
     },
     "metadata": {},
     "output_type": "display_data"
    },
    {
     "data": {
      "text/plain": [
       "all audiences"
      ]
     },
     "metadata": {},
     "output_type": "display_data"
    },
    {
     "data": {
      "text/plain": [
       "Davie"
      ]
     },
     "metadata": {},
     "output_type": "display_data"
    }
   ],
   "source": [
    "//object 用大括號建立\n",
    "var book={\n",
    "    'main title':\"javascript\",\n",
    "    'sub-title':\"The Definitive Guide\",\n",
    "    for:\"all audiences\",\n",
    "    author:{\n",
    "        firstname:\"Davie\",\n",
    "        surname:\"Flanagan\"\n",
    "    }\n",
    "}\n",
    "\n",
    "console.log(book['main title'],book['sub-title'])\n",
    "console.log(book.for,book.author.firstname)"
   ]
  },
  {
   "cell_type": "code",
   "execution_count": 56,
   "metadata": {
    "dotnet_interactive": {
     "language": "javascript"
    },
    "polyglot_notebook": {
     "kernelName": "javascript"
    },
    "vscode": {
     "languageId": "polyglot-notebook"
    }
   },
   "outputs": [
    {
     "data": {
      "text/plain": [
       "javascript"
      ]
     },
     "metadata": {},
     "output_type": "display_data"
    },
    {
     "data": {
      "text/plain": [
       "David"
      ]
     },
     "metadata": {},
     "output_type": "display_data"
    },
    {
     "data": {
      "text/plain": [
       "Bob"
      ]
     },
     "metadata": {},
     "output_type": "display_data"
    },
    {
     "data": {
      "application/json": {
       "author": {
        "Lastname": "Bob",
        "firstname": "David"
       },
       "main title": "javascript"
      }
     },
     "metadata": {},
     "output_type": "display_data"
    }
   ],
   "source": [
    "//Object 用new方法建立\n",
    "var book = new Object()\n",
    "book['main title'] = \"javascript\"\n",
    "book.author = new Object()\n",
    "book.author.firstname=\"David\"\n",
    "book.author.Lastname=\"Bob\"\n",
    "console.log(book['main title'],book.author.firstname,book.author.Lastname)\n",
    "console.log(book)"
   ]
  }
 ],
 "metadata": {
  "language_info": {
   "name": "python"
  },
  "orig_nbformat": 4
 },
 "nbformat": 4,
 "nbformat_minor": 2
}
